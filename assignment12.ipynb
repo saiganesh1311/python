{
  "nbformat": 4,
  "nbformat_minor": 0,
  "metadata": {
    "colab": {
      "name": "Untitled12.ipynb",
      "provenance": [],
      "authorship_tag": "ABX9TyMaN/2u8sXnAtemmaGrZ6gj",
      "include_colab_link": true
    },
    "kernelspec": {
      "name": "python3",
      "display_name": "Python 3"
    }
  },
  "cells": [
    {
      "cell_type": "markdown",
      "metadata": {
        "id": "view-in-github",
        "colab_type": "text"
      },
      "source": [
        "<a href=\"https://colab.research.google.com/github/saiganesh1311/python/blob/master/assignment12.ipynb\" target=\"_parent\"><img src=\"https://colab.research.google.com/assets/colab-badge.svg\" alt=\"Open In Colab\"/></a>"
      ]
    },
    {
      "cell_type": "code",
      "metadata": {
        "id": "uQ-6fo_vEe_0",
        "colab_type": "code",
        "colab": {}
      },
      "source": [
        " \n",
        "Program to create a tuple.\n",
        "In [1]:\n",
        "t1=(1,2,3,4,5)\n",
        "print(t1, type(t1))\n",
        "(1, 2, 3, 4, 5) <class 'tuple'>\n",
        "\n",
        "2.Program to create a tuple with different data types.\n",
        "In [11]:\n",
        "t1 = (1,2.5,\"Sai Ganesh\",[\"Hello\",\"Good Day\"])\n",
        "print(t1, type(t1))\n",
        "(1, 2.5, 'Saiganesh', ['Hello', 'Good Day']) <class 'tuple'>\n",
        "\n",
        "3. Program to convert a tuple into a string.\n",
        "In [12]:\n",
        "t1 = (\"G\",\"i\",\"t\",\"a\",\"m\")\n",
        "str = \"\".join(t1)\n",
        "print(\"Tuple converted string:\",str)\n",
        "Tuple converted string: Gitam\n",
        "\n",
        "4. Program to slice a tuple.\n",
        "In [14]:\n",
        "t1 = (1,2,3,4,5,6,7,8,9,10)\n",
        "slice=(t1[4:8])\n",
        "print(\"Sliced tuple:\",slice)\n",
        "Sliced tuple: (5, 6, 7, 8)\n",
        "\n",
        "5. Program to find the length of a tuple.\n",
        "In [15]:\n",
        "t1 = (1,2,3,4,5,6,7,8)\n",
        "print(\"Length of the tuple:\",len(t1))\n",
        "Length of the tuple: 8\n",
        "\n",
        "6.Program to convert a tuple into a dictionary.\n",
        "In [10]:\n",
        "t1 = ((\"one\",1),(\"two\",2),(\"three\",3),(\"four\",4),(\"five\",5))\n",
        "converted_dict = dict(t1)\n",
        "print(\"Converted Dictionary:\",converted_dict)\n",
        "Converted Dictionary: {'one': 1, 'two': 2, 'three': 3, 'four': 4, 'five': 5}\n",
        "\n",
        "7. Program to reverse a tuple.\n",
        "In [16]:\n",
        "t1 = (1,2,3,4,5,6,7,8)\n",
        "print(\"Reversed Tuple:\",t1[::-1])\n",
        "Reversed Tuple: (8, 7, 6, 5, 4, 3, 2, 1)\n",
        "\n",
        "8. Program to convert a list of tuples into a dictionary.\n",
        "In [8]:\n",
        "mylist = [(\"one\",1),(\"two\",2),(\"three\",3),(\"four\",4)]\n",
        "dict_converted = dict(mylist)\n",
        "print(\"Dictionary converted list:\",dict_converted)\n",
        "Dictionary converted list: {'one': 1, 'two': 2, 'three': 3, 'four': 4}\n",
        "\n",
        "9.Program to convert a list of tuples into a tuple.\n",
        "In [17]:\n",
        "mylist = [\"Hello\",\"Hey\",\"Hi\"]\n",
        "print(\"Tuple converted list:\",tuple(mylist))\n",
        "Tuple converted list: ('Hello', 'Hey', 'Hi')"
      ],
      "execution_count": null,
      "outputs": []
    }
  ]
}