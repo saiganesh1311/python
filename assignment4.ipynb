{
  "nbformat": 4,
  "nbformat_minor": 0,
  "metadata": {
    "colab": {
      "name": "Untitled4.ipynb",
      "provenance": [],
      "authorship_tag": "ABX9TyOss9K3r7FHHH8fIi2SdfZ1",
      "include_colab_link": true
    },
    "kernelspec": {
      "name": "python3",
      "display_name": "Python 3"
    }
  },
  "cells": [
    {
      "cell_type": "markdown",
      "metadata": {
        "id": "view-in-github",
        "colab_type": "text"
      },
      "source": [
        "<a href=\"https://colab.research.google.com/github/saiganesh1311/python/blob/master/assignment4.ipynb\" target=\"_parent\"><img src=\"https://colab.research.google.com/assets/colab-badge.svg\" alt=\"Open In Colab\"/></a>"
      ]
    },
    {
      "cell_type": "code",
      "metadata": {
        "id": "MODIiWhLuDDO",
        "colab_type": "code",
        "colab": {}
      },
      "source": [
        " \n",
        "Python function to find the Max of three numbers.\n",
        "In [ ]:\n",
        "x=int(input('Enter First Number'))\n",
        "y=int(input('Enter Second Number'))\n",
        "z=int(input('Enter Third Number'))\n",
        "if x>y:\n",
        "  if x>z:\n",
        "    print(\"X is Greatest\")\n",
        "  else:\n",
        "    print(\"Z is Greatest\")\n",
        "elif y>x:\n",
        "  if y>z:\n",
        "    print(\"Y is Greatest\")\n",
        "  else:\n",
        "    print(\"Z is Greatest\")\n",
        "Enter First Number20\n",
        "Enter Second Number10\n",
        "Enter Third Number15\n",
        "X is Greatest\n",
        "\n",
        "Write a Python program to reverse a string.\n",
        "In [ ]:\n",
        "def reverse(s): \n",
        "  str = \"\" \n",
        "  for i in s: \n",
        "    str = i + str\n",
        "  return str\n",
        "In [ ]:\n",
        "s = \"malayalam\"\n",
        "  \n",
        "print (\"The original string  is : \",end=\"\") \n",
        "print (s) \n",
        "  \n",
        "print (\"The reversed string(using loops) is : \",end=\"\") \n",
        "print (reverse(s))\n",
        "The original string  is : malayalam\n",
        "The reversed string(using loops) is : malayalam\n",
        "\n",
        "Write a Python function to check whether the number is prime or not\n",
        "In [ ]:\n",
        "num = int(input(\"Enter a number: \"))  \n",
        "  \n",
        "if num > 1:  \n",
        "   for i in range(2,num):  \n",
        "       if (num % i) == 0:  \n",
        "           print(num,\"is not a prime number\")  \n",
        "           print(i,\"times\",num//i,\"is\",num)  \n",
        "           break  \n",
        "   else:  \n",
        "       print(num,\"is a prime number\")  \n",
        "         \n",
        "else:  \n",
        "   print(num,\"is not a prime number\")\n",
        "Enter a number: 19\n",
        "is a prime number 19\n",
        "\n",
        "In [ ]:\n",
        "def squaresum(n) : \n",
        "  sm = 0\n",
        "  for i in range(1, n+1) : \n",
        "   sm=sm+(i * i) \n",
        "  return sm\n",
        "In [ ]:\n",
        "n=int(input(\"Enter the NUmber\"))\n",
        "print(\"The Square is\",squaresum(n))\n",
        "Enter the NUmber3\n",
        "The Square is 14"
      ],
      "execution_count": null,
      "outputs": []
    }
  ]
}