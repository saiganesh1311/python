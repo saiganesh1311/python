{
  "nbformat": 4,
  "nbformat_minor": 0,
  "metadata": {
    "colab": {
      "name": "Untitled11.ipynb",
      "provenance": [],
      "authorship_tag": "ABX9TyPPOwfGMtqWj8rtBD0VG+Y9",
      "include_colab_link": true
    },
    "kernelspec": {
      "name": "python3",
      "display_name": "Python 3"
    }
  },
  "cells": [
    {
      "cell_type": "markdown",
      "metadata": {
        "id": "view-in-github",
        "colab_type": "text"
      },
      "source": [
        "<a href=\"https://colab.research.google.com/github/saiganesh1311/python/blob/master/assignment11.ipynb\" target=\"_parent\"><img src=\"https://colab.research.google.com/assets/colab-badge.svg\" alt=\"Open In Colab\"/></a>"
      ]
    },
    {
      "cell_type": "code",
      "metadata": {
        "id": "6LHN0HtAEHip",
        "colab_type": "code",
        "colab": {}
      },
      "source": [
        " \n",
        "Program to read an entire file.\n",
        "In [ ]:\n",
        "f=open(\"assignment11.txt\")\n",
        "content=f.read()\n",
        "print(\"Content present in the file assignment.txt is\\n\",content)\n",
        "2. Program to read the first n lines of a file.\n",
        "In [ ]:\n",
        "f=open(\"assignment.txt\",\"r\")\n",
        "n=int(input(\"Enter the number of lines you want to read: \"))\n",
        "print(\"The content present in the first\",n,\"lines present in the file is\\n:\")\n",
        "for i in range(n):\n",
        "    line=f.readline()\n",
        "    print(line)\n",
        "3. Program to append text to a file and display it.\n",
        "In [ ]:\n",
        "f=open(\"assignment.txt\",\"a\")\n",
        "content=\"\"\"\\nI can even say goodbye in four languages.\n",
        "Adios! (Spanish)\n",
        "Addio! (Italian)\n",
        "Tschus! (German)\n",
        "Au Revoir! (French)\"\"\"\n",
        "f.write(content)\n",
        "f.close()\n",
        "4. Program to read last n lines of a file.\n",
        "In [ ]:\n",
        "f=open(\"assignment.txt\",\"r\")\n",
        "n=int(input(\"Enter the value of n to print the last lines: \"))\n",
        "last=f.readlines() [-n:]\n",
        "for line in last:\n",
        "    print(line, end ='')\n",
        "5.Program to read a file line by line and store it in a variable.\n",
        "In [ ]:\n",
        "def read_file(name):\n",
        "        with open (name, \"r\") as myfile:\n",
        "                content=myfile.readlines()\n",
        "                print(content)\n",
        "read_file('assignment.txt')\n",
        "6.Program to read a file line by line and store it in a list.\n",
        "In [ ]:\n",
        "def read_file(name): content = [] with open(name) as f:\n",
        "for lines in f: content=list(f.readlines()) print(content)\n",
        "\n",
        "read_file('assignment.txt')\n",
        "7. Program to read a file line by line and store it in an array.\n",
        "In [ ]:\n",
        "def read(name):\n",
        "        content = []\n",
        "        with open(name) as f:  \n",
        "                for line in f:\n",
        "                        content.append(line)\n",
        "                print(content)\n",
        "\n",
        "read('assignment.txt')\n",
        "8.Program to count the number of lines in a file.\n",
        "In [ ]:\n",
        "f=open(\"assignment.txt\",\"r\")\n",
        "count=0\n",
        "content=f.read()\n",
        "file_list=content.split(\"\\n\")\n",
        "\n",
        "for line in file_list:\n",
        "    if i:\n",
        "        count+=1\n",
        "print(\"Number of lines in the given list:\",count)\n",
        "9.Program to get the full size of a plain file.\n",
        "In [ ]:\n",
        "def size(f):\n",
        "        import os\n",
        "        statinfo = os.stat(f)\n",
        "        return statinfo.st_size\n",
        "size_file=size(\"assignment.txt\")\n",
        "print(\"File size in bytes of a plain file:\",size_file)\n",
        "10.Program to copy the content of one file to another.\n",
        "In [ ]:\n",
        "with open(\"assignment.txt\") as f:\n",
        "    with open(\"out.txt\", \"w\") as f1:\n",
        "        for line in f:\n",
        "            f1.write(line)"
      ],
      "execution_count": null,
      "outputs": []
    }
  ]
}